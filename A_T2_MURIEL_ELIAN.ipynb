{
  "nbformat": 4,
  "nbformat_minor": 0,
  "metadata": {
    "colab": {
      "provenance": [],
      "authorship_tag": "ABX9TyMVWcH0mcpzo5xv+7F0huLw",
      "include_colab_link": true
    },
    "kernelspec": {
      "name": "python3",
      "display_name": "Python 3"
    },
    "language_info": {
      "name": "python"
    }
  },
  "cells": [
    {
      "cell_type": "markdown",
      "metadata": {
        "id": "view-in-github",
        "colab_type": "text"
      },
      "source": [
        "<a href=\"https://colab.research.google.com/github/ElianMuriel/hola-mundo/blob/main/A_T2_MURIEL_ELIAN.ipynb\" target=\"_parent\"><img src=\"https://colab.research.google.com/assets/colab-badge.svg\" alt=\"Open In Colab\"/></a>"
      ]
    },
    {
      "cell_type": "markdown",
      "source": [
        "# **Trabajo 2 TIC**\n",
        "\n",
        "## ***Tecnologias de la informacion y comunicacion***\n",
        "\n",
        "### Unidad 3 - Herramientas colaborativas en linea"
      ],
      "metadata": {
        "id": "JVAXLRYjpl6k"
      }
    },
    {
      "cell_type": "markdown",
      "source": [
        "1) Hola Mundo: Escribe un programa que imprima \"Hola, Mundo!\" en la pantalla."
      ],
      "metadata": {
        "id": "TivfL6HWBEfK"
      }
    },
    {
      "cell_type": "code",
      "source": [
        "print(\"Hola Mundo\")"
      ],
      "metadata": {
        "colab": {
          "base_uri": "https://localhost:8080/"
        },
        "id": "4-gJI0qYpqt4",
        "outputId": "8453ca9c-7554-41fb-c1ec-fab3c34243b6"
      },
      "execution_count": null,
      "outputs": [
        {
          "output_type": "stream",
          "name": "stdout",
          "text": [
            "Hola Mundo\n"
          ]
        }
      ]
    },
    {
      "cell_type": "markdown",
      "source": [
        "2) Suma de dos números: Escribe un programa que pida al usuario dos números y los sume."
      ],
      "metadata": {
        "id": "_876_e3GqwbU"
      }
    },
    {
      "cell_type": "code",
      "source": [
        "print(\"Suma de dos numeros.\")\n",
        "var1 = int(input(\"Ingrese un valor: \"))\n",
        "var2 = int(input(\"Ingrese un segundo valor: \"))\n",
        "\n",
        "suma = var1 + var2\n",
        "print(\"la suma de los dos valores ingresados es: \", suma)"
      ],
      "metadata": {
        "colab": {
          "base_uri": "https://localhost:8080/"
        },
        "id": "dKCJX3Ayqx2D",
        "outputId": "80745b43-0a97-4a9a-c89d-84e516e25fb6"
      },
      "execution_count": null,
      "outputs": [
        {
          "output_type": "stream",
          "name": "stdout",
          "text": [
            "Suma de dos numeros: \n",
            "Ingrese un valor: 2\n",
            "Ingrese un segundo valor: 2\n",
            "la suma de los dos valores ingresados es:  4\n"
          ]
        }
      ]
    },
    {
      "cell_type": "markdown",
      "source": [
        "3) Par o Impar: Escribe un programa que determine si un número introducido por el usuario es par o impar."
      ],
      "metadata": {
        "id": "d67M7f2brig0"
      }
    },
    {
      "cell_type": "code",
      "source": [
        "print(\"Par o impar.\")\n",
        "def par_o_impar (numero):\n",
        "  if numero % 2 == 0:\n",
        "    print(f\"el numero: {numero} es par\")\n",
        "  else:\n",
        "    print(f\"el numero {numero} es impar\")\n",
        "\n",
        "numero = int(input(\"Ingrese un valor: \"))\n",
        "par_o_impar(numero)"
      ],
      "metadata": {
        "colab": {
          "base_uri": "https://localhost:8080/"
        },
        "id": "aVQXxRxPrls8",
        "outputId": "e72ca23f-7d85-441c-8837-972d86ae3f61"
      },
      "execution_count": null,
      "outputs": [
        {
          "output_type": "stream",
          "name": "stdout",
          "text": [
            "Par o impar.\n",
            "Ingrese un valor: 2\n",
            "el numero: 2 es par\n"
          ]
        }
      ]
    },
    {
      "cell_type": "markdown",
      "source": [
        "4) Calculadora básica: Escribe un programa que realice operaciones básicas (suma, resta, multiplicación y división) entre dos números introducidos por el usuario."
      ],
      "metadata": {
        "id": "ErBSrYk9s47r"
      }
    },
    {
      "cell_type": "code",
      "source": [
        "print(\"Calculadora.\")\n",
        "def suma(num1, num2):\n",
        "  return num1 + num2\n",
        "\n",
        "def resta(num1, num2):\n",
        "  return num1 - num2\n",
        "\n",
        "def multiplicacion(num1, num2):\n",
        "  return num1 * num2\n",
        "\n",
        "def division(num1, num2):\n",
        "  if num2 == 0:\n",
        "    return \"No se divide para 0\"\n",
        "  else:\n",
        "    return num1 / num2\n",
        "\n",
        "print(\"Seleccione una opcion: \")\n",
        "print(\"1. Suma\")\n",
        "print(\"2. Resta\")\n",
        "print(\"3. Multiplicación\")\n",
        "print(\"4. División\")\n",
        "\n",
        "op = input(\"Ingrese literal de operacion a realizar: \")\n",
        "\n",
        "num1 = float(input(\"Ingrese un primer valor: \"))\n",
        "num2 = float(input(\"Ingrese un segundo valor: \"))\n",
        "\n",
        "if op == \"1\":\n",
        "  print(\"La suma es: \", suma(num1, num2))\n",
        "elif op == \"2\":\n",
        "  print(\"La resta es: \", resta(num1, num2))\n",
        "elif op == \"3\":\n",
        "  print(\"La multiplicacion es: \", multiplicacion(num1, num2))\n",
        "elif op == \"4\":\n",
        "  print(\"La division es: \", division(num1, num2))\n",
        "else:\n",
        "  print(\"Opcion no valida\")\n"
      ],
      "metadata": {
        "colab": {
          "base_uri": "https://localhost:8080/"
        },
        "id": "TyjiC48cs9a6",
        "outputId": "58cfa186-9ae9-45d8-93b2-176617b35199"
      },
      "execution_count": null,
      "outputs": [
        {
          "output_type": "stream",
          "name": "stdout",
          "text": [
            "Calculadora.\n",
            "Seleccione una opcion: \n",
            "1. Suma\n",
            "2. Resta\n",
            "3. Multiplicación\n",
            "4. División\n",
            "Ingrese literal de operacion a realizar: 1\n",
            "Ingrese un primer valor: 2\n",
            "Ingrese un segundo valor: 5\n",
            "La suma es:  7.0\n"
          ]
        }
      ]
    },
    {
      "cell_type": "markdown",
      "source": [
        "5) Número mayor: Escribe un programa que pida tres números al usuario y determine cuál es el mayor."
      ],
      "metadata": {
        "id": "TGObdSsSxHVg"
      }
    },
    {
      "cell_type": "code",
      "source": [
        "num1 = float(input(\"Ingrese un primer valor: \"))\n",
        "num2 = float(input(\"Ingrese un segundo valor: \"))\n",
        "num3 = float(input(\"Ingrese un tercer valor: \"))\n",
        "\n",
        "if num1 > num2 and num1 > num3:\n",
        "  print(f\"el numero mayor es: {num1}\")\n",
        "else:\n",
        "  if num2 > num1 and num2 > num3:\n",
        "      print(f\"el numero mayor es: {num2}\")\n",
        "  else:\n",
        "    num3 > num1 and num3 > num2\n",
        "    print(f\"el numero mayor es: {num3}\")"
      ],
      "metadata": {
        "id": "M44-wG-jxKVP",
        "outputId": "3cbf760c-aef4-4640-83a9-dff4d5665cc5",
        "colab": {
          "base_uri": "https://localhost:8080/"
        }
      },
      "execution_count": null,
      "outputs": [
        {
          "output_type": "stream",
          "name": "stdout",
          "text": [
            "Ingrese un primer valor12.5\n",
            "Ingrese un segundo valor8.6\n",
            "Ingrese un tercer valor12.57\n",
            "el numero mayor es: 12.57\n"
          ]
        }
      ]
    },
    {
      "cell_type": "markdown",
      "source": [
        "6) Cálculo del área de un círculo: Escribe un programa que calcule el área de un círculo a partir de su radio, ingresado por el usuario."
      ],
      "metadata": {
        "id": "FkDUSOUTCzvn"
      }
    },
    {
      "cell_type": "code",
      "source": [
        "print(\"Area del circulo\")\n",
        "radio = float(input(\"Ingrese el radio del circulo: \"))\n",
        "def area_circulo ():\n",
        "  pi = 3.14\n",
        "  area = pi * radio ** 2\n",
        "  return area\n",
        "\n",
        "resultado = area_circulo()\n",
        "print(f\"el area del circulo es: {resultado}.\")\n",
        "\n"
      ],
      "metadata": {
        "id": "QyCSzVfmxZv-",
        "colab": {
          "base_uri": "https://localhost:8080/"
        },
        "outputId": "55d3ef79-e9f9-4f24-e084-015fe3f1a280"
      },
      "execution_count": null,
      "outputs": [
        {
          "output_type": "stream",
          "name": "stdout",
          "text": [
            "Area del circulo\n",
            "Ingrese el radio del circulo: 10\n",
            "el area del circulo es: 314.0.\n"
          ]
        }
      ]
    },
    {
      "cell_type": "markdown",
      "source": [
        "7) Conversión de grados Celsius a Fahrenheit: Escribe un programa que convierta una temperatura dada en grados Celsius a grados Fahrenheit."
      ],
      "metadata": {
        "id": "sgMIdpQDP-QA"
      }
    },
    {
      "cell_type": "code",
      "source": [
        "def celsius_a_fahrenheit (celsius):\n",
        "  fahrenheit = (celsius * 9/5) + 32\n",
        "  return fahrenheit\n",
        "celsius_temp = float(input(\"Ingrese la temperatura en grados celsius: \"))\n",
        "fahrenheit_temp = celsius_a_fahrenheit(celsius_temp)\n",
        "print(f\"La temperatura de: {celsius_temp} grados celsius convertida a grados fahrenheit es: {fahrenheit_temp}.\")"
      ],
      "metadata": {
        "colab": {
          "base_uri": "https://localhost:8080/"
        },
        "id": "bm1ZPwx_QR5p",
        "outputId": "0732ff94-37f0-4ea6-f2fd-9556adf2c939"
      },
      "execution_count": null,
      "outputs": [
        {
          "output_type": "stream",
          "name": "stdout",
          "text": [
            "Ingrese la temperatura en grados celsius: 10\n",
            "La temperatura de: 10.0 grados celsius convertida a grados fahrenheit es: 50.0.\n"
          ]
        }
      ]
    },
    {
      "cell_type": "markdown",
      "source": [
        "8) Cuenta atrás: Escribe un programa que cuente hacia atrás desde 10 hasta 0."
      ],
      "metadata": {
        "id": "-QecHvDgSWd3"
      }
    },
    {
      "cell_type": "code",
      "source": [
        "def cuenta_hacia_atras ():\n",
        "  for num in range(10, -1, -1):\n",
        "    print(num)\n",
        "\n",
        "\n",
        "cuenta_hacia_atras()\n"
      ],
      "metadata": {
        "colab": {
          "base_uri": "https://localhost:8080/"
        },
        "id": "bMYmdOkYSa6C",
        "outputId": "54821c6f-9859-4e90-9aca-39fd404cec42"
      },
      "execution_count": null,
      "outputs": [
        {
          "output_type": "stream",
          "name": "stdout",
          "text": [
            "10\n",
            "9\n",
            "8\n",
            "7\n",
            "6\n",
            "5\n",
            "4\n",
            "3\n",
            "2\n",
            "1\n",
            "0\n"
          ]
        }
      ]
    },
    {
      "cell_type": "markdown",
      "source": [
        "9) Tabla de multiplicar: Escribe un programa que muestre la tabla de multiplicar de un número introducido por el usuario."
      ],
      "metadata": {
        "id": "YrhrHfC8TbwK"
      }
    },
    {
      "cell_type": "code",
      "source": [
        "def tabla_de_multiplicar (num):\n",
        "  print(f\"Tabla del {num}\")\n",
        "  for numero in range (1, 12 +1):\n",
        "    resultado = num * numero\n",
        "    print(f\"{num} x {numero} = {resultado}\")\n",
        "\n",
        "ingreso_usuario = int(input(\"Ingrese un número para ver su tabla: \"))\n",
        "tabla_de_multiplicar(ingreso_usuario)"
      ],
      "metadata": {
        "colab": {
          "base_uri": "https://localhost:8080/"
        },
        "id": "wUrdpxDpTgRA",
        "outputId": "316b970a-7b07-4e59-a071-c584ae8206d0"
      },
      "execution_count": null,
      "outputs": [
        {
          "output_type": "stream",
          "name": "stdout",
          "text": [
            "Ingrese un número para ver su tabla: 4\n",
            "Tabla del 4\n",
            "4 x 1 = 4\n",
            "4 x 2 = 8\n",
            "4 x 3 = 12\n",
            "4 x 4 = 16\n",
            "4 x 5 = 20\n",
            "4 x 6 = 24\n",
            "4 x 7 = 28\n",
            "4 x 8 = 32\n",
            "4 x 9 = 36\n",
            "4 x 10 = 40\n",
            "4 x 11 = 44\n",
            "4 x 12 = 48\n"
          ]
        }
      ]
    },
    {
      "cell_type": "markdown",
      "source": [
        "10) Números primos: Escribe un programa que determine si un número introducido por el usuario es primo."
      ],
      "metadata": {
        "id": "bzjSgT7kVOJI"
      }
    },
    {
      "cell_type": "code",
      "source": [
        "def numero_primo (numero):\n",
        "  if numero % 2 == 0:\n",
        "    print(f\"el numero {numero} es primo\")\n",
        "  else:\n",
        "    print(f\"el número {numero} no es primo.\")\n",
        "ingreso_usuario = int(input(\"Ingrese un número para ver si es o no primo: \"))\n",
        "numero_primo(ingreso_usuario)"
      ],
      "metadata": {
        "colab": {
          "base_uri": "https://localhost:8080/"
        },
        "id": "pXGPwcwFVS-C",
        "outputId": "c7dcaf79-cdb8-4b09-c2da-a04bb6e19385"
      },
      "execution_count": null,
      "outputs": [
        {
          "output_type": "stream",
          "name": "stdout",
          "text": [
            "Ingrese un número para ver si es o no primo: 3\n",
            "el número 3 no es primo.\n"
          ]
        }
      ]
    },
    {
      "cell_type": "markdown",
      "source": [
        "11) Sumar números hasta un límite: Escribe un programa que sume todos los números naturales hasta un número límite introducido por el usuario."
      ],
      "metadata": {
        "id": "ll7PvgGYWHwG"
      }
    },
    {
      "cell_type": "code",
      "source": [
        "def suma_infinito (limite):\n",
        "  suma = 0\n",
        "  for num in range(1, limite + 1):\n",
        "    suma += num\n",
        "  return suma\n",
        "\n",
        "ingreso_limite_usuario = int(input(\"Ingrese el limite al que desea sumar los números: \"))\n",
        "\n",
        "resultado = suma_infinito(ingreso_limite_usuario)\n",
        "\n",
        "print(f\"La suma de números naturales hasta {ingreso_limite_usuario} es: {resultado}\")"
      ],
      "metadata": {
        "colab": {
          "base_uri": "https://localhost:8080/"
        },
        "id": "HQjNX84IWLVf",
        "outputId": "d822cb5a-6474-4a0c-e24d-32e2b3b5bd76"
      },
      "execution_count": null,
      "outputs": [
        {
          "output_type": "stream",
          "name": "stdout",
          "text": [
            "Ingrese el limite al que desea sumar los números: 2\n",
            "La suma de números naturales hasta 2 es: 3\n"
          ]
        }
      ]
    },
    {
      "cell_type": "markdown",
      "source": [
        "12) Invertir una cadena: Escribe un programa que invierta una cadena introducida por el usuario."
      ],
      "metadata": {
        "id": "J_a8IgZIXsDH"
      }
    },
    {
      "cell_type": "code",
      "source": [
        "def invertir_cadena_texto(cadena):\n",
        "    return cadena[::-1]\n",
        "\n",
        "ingreso_usuario_cadena = input(\"Introduce una cadena de texto para invertirla: \")\n",
        "cadena_invertida = invertir_cadena_texto(ingreso_usuario_cadena)\n",
        "print(\"Cadena invertida:\", cadena_invertida)"
      ],
      "metadata": {
        "colab": {
          "base_uri": "https://localhost:8080/"
        },
        "id": "xQg-olEDYDaa",
        "outputId": "5b91b581-5f49-40dc-a1ab-fd74905aa3f8"
      },
      "execution_count": null,
      "outputs": [
        {
          "output_type": "stream",
          "name": "stdout",
          "text": [
            "Introduce una cadena de texto para invertirla: hola me llamo elian\n",
            "Cadena invertida: naile omall em aloh\n"
          ]
        }
      ]
    },
    {
      "cell_type": "markdown",
      "source": [
        "13) Contar vocales: Escribe un programa que cuente el número de vocales en una cadena introducida por el usuario."
      ],
      "metadata": {
        "id": "5hILtHUoYc4Z"
      }
    },
    {
      "cell_type": "code",
      "source": [
        "def contar_vocales (texto):\n",
        "  vocales = \"aeiouAEIOU\"\n",
        "  contador = 0\n",
        "  for letra in texto:\n",
        "    if letra in vocales:\n",
        "      contador += 1\n",
        "  return contador\n",
        "\n",
        "texto_usuario = input(\"Ingrese un texto para contar sus vocales: \")\n",
        "conteo_vocales = contar_vocales(texto_usuario)\n",
        "print(f\"La cantidad de vocales en el texto es: {conteo_vocales}\")"
      ],
      "metadata": {
        "colab": {
          "base_uri": "https://localhost:8080/"
        },
        "id": "XJ-tVIkxYgmi",
        "outputId": "4d775b8d-35f5-4334-ea18-d4a8887c1ea6"
      },
      "execution_count": null,
      "outputs": [
        {
          "output_type": "stream",
          "name": "stdout",
          "text": [
            "Ingrese un texto para contar sus vocales: murcielago\n",
            "La cantidad de vocales en el texto es: 5\n"
          ]
        }
      ]
    },
    {
      "cell_type": "markdown",
      "source": [
        "14) Palíndromo: Escribe un programa que determine si una cadena introducida por el usuario es un palíndromo."
      ],
      "metadata": {
        "id": "7O-9Ell1ZuI8"
      }
    },
    {
      "cell_type": "code",
      "source": [
        "def texto_palindromo (texto):\n",
        "  texto = texto.lower()\n",
        "  return texto == texto[::-1]\n",
        "\n",
        "texto_usuario = input(\"Ingrese una palabra para comprobar si es palindromo: \")\n",
        "if texto_palindromo(texto_usuario):\n",
        "  print(f\"La palabra {texto_usuario} es palindromo.\")\n",
        "else:\n",
        "  print(f\"La palabra {texto_usuario} no es palindromo.\")\n"
      ],
      "metadata": {
        "colab": {
          "base_uri": "https://localhost:8080/"
        },
        "id": "S2gUEpNOZywT",
        "outputId": "67831c0b-71dd-4036-c3f6-56c5b1fe353e"
      },
      "execution_count": null,
      "outputs": [
        {
          "output_type": "stream",
          "name": "stdout",
          "text": [
            "Ingrese una palabra para comprobar si es palindromo: ANA\n",
            "La palabra ANA es palindromo.\n"
          ]
        }
      ]
    },
    {
      "cell_type": "markdown",
      "source": [
        "15) Factorial de un número: Escribe un programa que calcule el factorial de un número introducido por el usuario."
      ],
      "metadata": {
        "id": "TMOYBBMubeND"
      }
    },
    {
      "cell_type": "code",
      "source": [
        "def factorial(numero):\n",
        "    if numero == 0:\n",
        "        return 1\n",
        "    else:\n",
        "        return numero * factorial(numero - 1)\n",
        "\n",
        "ingreso_numero_usuario = int(input(\"Introduce un número para calcular su factorial: \"))\n",
        "\n",
        "if ingreso_numero_usuario < 0:\n",
        "    print(\"El factorial no se define por números negativos.\")\n",
        "else:\n",
        "    resultado = factorial(ingreso_numero_usuario)\n",
        "    print(f\"El factorial de {ingreso_numero_usuario} es: {resultado}\")"
      ],
      "metadata": {
        "colab": {
          "base_uri": "https://localhost:8080/"
        },
        "id": "KKJOchbHbhdx",
        "outputId": "4ee01fc4-403d-4a91-f76b-471e9982431e"
      },
      "execution_count": null,
      "outputs": [
        {
          "output_type": "stream",
          "name": "stdout",
          "text": [
            "Introduce un número para calcular su factorial: 6\n",
            "El factorial de 6 es: 720\n"
          ]
        }
      ]
    },
    {
      "cell_type": "markdown",
      "source": [
        "16) Generar números aleatorios: Escribe un programa que genere y muestre 5 números aleatorios entre 1 y 100."
      ],
      "metadata": {
        "id": "7wGyfYn4c98s"
      }
    },
    {
      "cell_type": "code",
      "source": [
        "import random\n",
        "\n",
        "def numeros_aleatorios():\n",
        "    print(\"Se muestra 5 numeros aleatorios entre 1 y 100:\")\n",
        "    for num in range(5):\n",
        "        numero_aleatorio = random.randint(1, 100)\n",
        "        print(numero_aleatorio)\n",
        "\n",
        "numeros_aleatorios()"
      ],
      "metadata": {
        "colab": {
          "base_uri": "https://localhost:8080/"
        },
        "id": "Gr6WoTfQdBjB",
        "outputId": "e351e03f-e96e-4123-f00c-44c7a40dd0e7"
      },
      "execution_count": null,
      "outputs": [
        {
          "output_type": "stream",
          "name": "stdout",
          "text": [
            "Se muestra 5 numeros aleatorios entre 1 y 100:\n",
            "33\n",
            "42\n",
            "77\n",
            "44\n",
            "12\n"
          ]
        }
      ]
    },
    {
      "cell_type": "markdown",
      "source": [
        "17) Calculadora de índice de masa corporal (IMC): Escribe un programa que calcule el índice de masa corporal (IMC) a partir del peso y la altura introducidos por el usuario."
      ],
      "metadata": {
        "id": "DbOt1_nJd7wC"
      }
    },
    {
      "cell_type": "code",
      "source": [
        "def indice_masa_corporal(peso, altura):\n",
        "    # Para calcular el IMC es peso (kg) / altura (m) al cuadrado\n",
        "    imc = peso / (altura ** 2)\n",
        "    return imc\n",
        "\n",
        "peso = float(input(\"Introduzca su peso en kg: \"))\n",
        "altura = float(input(\"Introduzca su altura en metros: \"))\n",
        "\n",
        "imc = indice_masa_corporal(peso, altura)\n",
        "\n",
        "print(\"Tu índice de masa corporal (IMC) es:\", imc)"
      ],
      "metadata": {
        "colab": {
          "base_uri": "https://localhost:8080/"
        },
        "id": "o4umkB9Ed_Q7",
        "outputId": "118ed193-d23b-4a18-968a-7f973454931e"
      },
      "execution_count": null,
      "outputs": [
        {
          "output_type": "stream",
          "name": "stdout",
          "text": [
            "Introduzca su peso en kg: 120\n",
            "Introduzca su altura en metros: 1.75\n",
            "Tu índice de masa corporal (IMC) es: 39.183673469387756\n"
          ]
        }
      ]
    }
  ]
}