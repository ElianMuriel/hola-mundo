{
  "nbformat": 4,
  "nbformat_minor": 0,
  "metadata": {
    "colab": {
      "provenance": [],
      "authorship_tag": "ABX9TyM+mmkiiIn8736c6kP6UcD9",
      "include_colab_link": true
    },
    "kernelspec": {
      "name": "python3",
      "display_name": "Python 3"
    },
    "language_info": {
      "name": "python"
    }
  },
  "cells": [
    {
      "cell_type": "markdown",
      "metadata": {
        "id": "view-in-github",
        "colab_type": "text"
      },
      "source": [
        "<a href=\"https://colab.research.google.com/github/ElianMuriel/hola-mundo/blob/main/A_T2_MURIEL_ELIAN.ipynb\" target=\"_parent\"><img src=\"https://colab.research.google.com/assets/colab-badge.svg\" alt=\"Open In Colab\"/></a>"
      ]
    },
    {
      "cell_type": "code",
      "execution_count": null,
      "metadata": {
        "id": "Vh0mIwxOpYvi"
      },
      "outputs": [],
      "source": []
    },
    {
      "cell_type": "markdown",
      "source": [
        "**Trabajo 2 TIC**"
      ],
      "metadata": {
        "id": "JVAXLRYjpl6k"
      }
    },
    {
      "cell_type": "code",
      "source": [
        "print(\"Hola Mundo\")"
      ],
      "metadata": {
        "colab": {
          "base_uri": "https://localhost:8080/"
        },
        "id": "4-gJI0qYpqt4",
        "outputId": "8453ca9c-7554-41fb-c1ec-fab3c34243b6"
      },
      "execution_count": 1,
      "outputs": [
        {
          "output_type": "stream",
          "name": "stdout",
          "text": [
            "Hola Mundo\n"
          ]
        }
      ]
    },
    {
      "cell_type": "markdown",
      "source": [
        "Suma de dos números: Escribe un programa que pida al usuario dos números y los sume."
      ],
      "metadata": {
        "id": "_876_e3GqwbU"
      }
    },
    {
      "cell_type": "code",
      "source": [
        "print(\"Suma de dos numeros.\")\n",
        "var1 = int(input(\"Ingrese un valor: \"))\n",
        "var2 = int(input(\"Ingrese un segundo valor: \"))\n",
        "\n",
        "suma = var1 + var2\n",
        "print(\"la suma de los dos valores ingresados es: \", suma)"
      ],
      "metadata": {
        "colab": {
          "base_uri": "https://localhost:8080/"
        },
        "id": "dKCJX3Ayqx2D",
        "outputId": "80745b43-0a97-4a9a-c89d-84e516e25fb6"
      },
      "execution_count": 4,
      "outputs": [
        {
          "output_type": "stream",
          "name": "stdout",
          "text": [
            "Suma de dos numeros: \n",
            "Ingrese un valor: 2\n",
            "Ingrese un segundo valor: 2\n",
            "la suma de los dos valores ingresados es:  4\n"
          ]
        }
      ]
    },
    {
      "cell_type": "markdown",
      "source": [
        "Par o Impar: Escribe un programa que determine si un número introducido por el usuario es par o impar."
      ],
      "metadata": {
        "id": "d67M7f2brig0"
      }
    },
    {
      "cell_type": "code",
      "source": [
        "print(\"Par o impar.\")\n",
        "def par_o_impar (numero):\n",
        "  if numero % 2 == 0:\n",
        "    print(f\"el numero: {numero} es par\")\n",
        "  else:\n",
        "    print(f\"el numero {numero} es impar\")\n",
        "\n",
        "numero = int(input(\"Ingrese un valor: \"))\n",
        "par_o_impar(numero)"
      ],
      "metadata": {
        "colab": {
          "base_uri": "https://localhost:8080/"
        },
        "id": "aVQXxRxPrls8",
        "outputId": "e72ca23f-7d85-441c-8837-972d86ae3f61"
      },
      "execution_count": 7,
      "outputs": [
        {
          "output_type": "stream",
          "name": "stdout",
          "text": [
            "Par o impar.\n",
            "Ingrese un valor: 2\n",
            "el numero: 2 es par\n"
          ]
        }
      ]
    },
    {
      "cell_type": "markdown",
      "source": [
        "Calculadora básica: Escribe un programa que realice operaciones básicas (suma, resta, multiplicación y división) entre dos números introducidos por el usuario."
      ],
      "metadata": {
        "id": "ErBSrYk9s47r"
      }
    },
    {
      "cell_type": "code",
      "source": [
        "print(\"Calculadora.\")\n",
        "def suma(num1, num2):\n",
        "  return num1 + num2\n",
        "\n",
        "def resta(num1, num2):\n",
        "  return num1 - num2\n",
        "\n",
        "def multiplicacion(num1, num2):\n",
        "  return num1 * num2\n",
        "\n",
        "def division(num1, num2):\n",
        "  if num2 == 0:\n",
        "    return \"No se divide para 0\"\n",
        "  else:\n",
        "    return num1 / num2\n",
        "\n",
        "print(\"Seleccione una opcion: \")\n",
        "print(\"1. Suma\")\n",
        "print(\"2. Resta\")\n",
        "print(\"3. Multiplicación\")\n",
        "print(\"4. División\")\n",
        "\n",
        "op = input(\"Ingrese literal de operacion a realizar: \")\n",
        "\n",
        "num1 = float(input(\"Ingrese un primer valor: \"))\n",
        "num2 = float(input(\"Ingrese un segundo valor: \"))\n",
        "\n",
        "if op == \"1\":\n",
        "  print(\"La suma es: \", suma(num1, num2))\n",
        "elif op == \"2\":\n",
        "  print(\"La resta es: \", resta(num1, num2))\n",
        "elif op == \"3\":\n",
        "  print(\"La multiplicacion es: \", multiplicacion(num1, num2))\n",
        "elif op == \"4\":\n",
        "  print(\"La division es: \", division(num1, num2))\n",
        "else:\n",
        "  print(\"Opcion no valida\")\n"
      ],
      "metadata": {
        "colab": {
          "base_uri": "https://localhost:8080/"
        },
        "id": "TyjiC48cs9a6",
        "outputId": "58cfa186-9ae9-45d8-93b2-176617b35199"
      },
      "execution_count": 10,
      "outputs": [
        {
          "output_type": "stream",
          "name": "stdout",
          "text": [
            "Calculadora.\n",
            "Seleccione una opcion: \n",
            "1. Suma\n",
            "2. Resta\n",
            "3. Multiplicación\n",
            "4. División\n",
            "Ingrese literal de operacion a realizar: 1\n",
            "Ingrese un primer valor: 2\n",
            "Ingrese un segundo valor: 5\n",
            "La suma es:  7.0\n"
          ]
        }
      ]
    },
    {
      "cell_type": "markdown",
      "source": [
        "Número mayor: Escribe un programa que pida tres números al usuario y determine cuál es el mayor."
      ],
      "metadata": {
        "id": "TGObdSsSxHVg"
      }
    },
    {
      "cell_type": "code",
      "source": [
        "num1 = int(input(\"Ingrese un primer valor\"))\n",
        "num2 = int(input(\"Ingrese un segundo valor\"))\n",
        "num3 = int(input(\"Ingrese un tercer valor\"))\n"
      ],
      "metadata": {
        "id": "M44-wG-jxKVP"
      },
      "execution_count": null,
      "outputs": []
    },
    {
      "cell_type": "code",
      "source": [],
      "metadata": {
        "id": "QyCSzVfmxZv-"
      },
      "execution_count": null,
      "outputs": []
    }
  ]
}